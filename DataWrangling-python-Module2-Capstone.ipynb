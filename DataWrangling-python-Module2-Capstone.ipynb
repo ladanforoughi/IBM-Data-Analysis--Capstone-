{
 "cells": [
  {
   "cell_type": "markdown",
   "metadata": {},
   "source": [
    "<center>\n",
    "    <img src=\"https://gitlab.com/ibm/skills-network/courses/placeholder101/-/raw/master/labs/module%201/images/IDSNlogo.png\" width=\"300\" alt=\"cognitiveclass.ai logo\"  />\n",
    "</center>\n"
   ]
  },
  {
   "cell_type": "markdown",
   "metadata": {},
   "source": [
    "# **Data Wrangling Lab**\n"
   ]
  },
  {
   "cell_type": "markdown",
   "metadata": {},
   "source": [
    "Estimated time needed: **45 to 60** minutes\n"
   ]
  },
  {
   "cell_type": "markdown",
   "metadata": {},
   "source": [
    "In this assignment you will be performing data wrangling.\n"
   ]
  },
  {
   "cell_type": "markdown",
   "metadata": {},
   "source": [
    "## Objectives\n"
   ]
  },
  {
   "cell_type": "markdown",
   "metadata": {},
   "source": [
    "In this lab you will perform the following:\n"
   ]
  },
  {
   "cell_type": "markdown",
   "metadata": {},
   "source": [
    "*   Identify duplicate values in the dataset.\n",
    "\n",
    "*   Remove duplicate values from the dataset.\n",
    "\n",
    "*   Identify missing values in the dataset.\n",
    "\n",
    "*   Impute the missing values in the dataset.\n",
    "\n",
    "*   Normalize data in the dataset.\n"
   ]
  },
  {
   "cell_type": "markdown",
   "metadata": {},
   "source": [
    "<hr>\n"
   ]
  },
  {
   "cell_type": "markdown",
   "metadata": {},
   "source": [
    "## Hands on Lab\n"
   ]
  },
  {
   "cell_type": "markdown",
   "metadata": {},
   "source": [
    "Import pandas module.\n"
   ]
  },
  {
   "cell_type": "code",
   "execution_count": 40,
   "metadata": {},
   "outputs": [],
   "source": [
    "import pandas as pd"
   ]
  },
  {
   "cell_type": "markdown",
   "metadata": {},
   "source": [
    "Load the dataset into a dataframe.\n"
   ]
  },
  {
   "cell_type": "code",
   "execution_count": 41,
   "metadata": {},
   "outputs": [],
   "source": [
    "df = pd.read_csv(\"https://cf-courses-data.s3.us.cloud-object-storage.appdomain.cloud/IBM-DA0321EN-SkillsNetwork/labs/Capstone_edX/Module%201/survey_results_public_2020.csv\")"
   ]
  },
  {
   "cell_type": "markdown",
   "metadata": {},
   "source": [
    "## Finding duplicates\n"
   ]
  },
  {
   "cell_type": "markdown",
   "metadata": {},
   "source": [
    "In this section you will identify duplicate values in the dataset.\n"
   ]
  },
  {
   "cell_type": "markdown",
   "metadata": {},
   "source": [
    "Find how many duplicate rows exist in the dataframe.\n"
   ]
  },
  {
   "cell_type": "code",
   "execution_count": 42,
   "metadata": {},
   "outputs": [
    {
     "data": {
      "text/plain": [
       "0"
      ]
     },
     "execution_count": 42,
     "metadata": {},
     "output_type": "execute_result"
    }
   ],
   "source": [
    "# your code goes here\n",
    "df.duplicated().sum()"
   ]
  },
  {
   "cell_type": "markdown",
   "metadata": {},
   "source": [
    "## Removing duplicates\n"
   ]
  },
  {
   "cell_type": "markdown",
   "metadata": {},
   "source": [
    "Remove the duplicate rows from the dataframe.\n"
   ]
  },
  {
   "cell_type": "code",
   "execution_count": 43,
   "metadata": {},
   "outputs": [],
   "source": [
    "# your code goes here\n",
    "df.drop_duplicates(inplace = True)"
   ]
  },
  {
   "cell_type": "markdown",
   "metadata": {},
   "source": [
    "Verify if duplicates were actually dropped.\n"
   ]
  },
  {
   "cell_type": "code",
   "execution_count": 44,
   "metadata": {},
   "outputs": [
    {
     "data": {
      "text/plain": [
       "0"
      ]
     },
     "execution_count": 44,
     "metadata": {},
     "output_type": "execute_result"
    }
   ],
   "source": [
    "# your code goes here\n",
    "df.duplicated().sum()"
   ]
  },
  {
   "cell_type": "markdown",
   "metadata": {},
   "source": [
    "## Finding Missing values\n"
   ]
  },
  {
   "cell_type": "markdown",
   "metadata": {},
   "source": [
    "Find the missing values for all columns.\n"
   ]
  },
  {
   "cell_type": "code",
   "execution_count": 45,
   "metadata": {},
   "outputs": [
    {
     "name": "stdout",
     "output_type": "stream",
     "text": [
      "Respondent\n",
      "False    64461\n",
      "Name: Respondent, dtype: int64\n",
      "MainBranch\n",
      "False    64162\n",
      "True       299\n",
      "Name: MainBranch, dtype: int64\n",
      "Hobbyist\n",
      "False    64416\n",
      "True        45\n",
      "Name: Hobbyist, dtype: int64\n",
      "Age\n",
      "False    45446\n",
      "True     19015\n",
      "Name: Age, dtype: int64\n",
      "Age1stCode\n",
      "False    57900\n",
      "True      6561\n",
      "Name: Age1stCode, dtype: int64\n",
      "CompFreq\n",
      "False    40069\n",
      "True     24392\n",
      "Name: CompFreq, dtype: int64\n",
      "CompTotal\n",
      "False    34826\n",
      "True     29635\n",
      "Name: CompTotal, dtype: int64\n",
      "ConvertedComp\n",
      "False    34756\n",
      "True     29705\n",
      "Name: ConvertedComp, dtype: int64\n",
      "Country\n",
      "False    64072\n",
      "True       389\n",
      "Name: Country, dtype: int64\n",
      "CurrencyDesc\n",
      "False    45472\n",
      "True     18989\n",
      "Name: CurrencyDesc, dtype: int64\n",
      "CurrencySymbol\n",
      "False    45472\n",
      "True     18989\n",
      "Name: CurrencySymbol, dtype: int64\n",
      "DatabaseDesireNextYear\n",
      "False    44070\n",
      "True     20391\n",
      "Name: DatabaseDesireNextYear, dtype: int64\n",
      "DatabaseWorkedWith\n",
      "False    49537\n",
      "True     14924\n",
      "Name: DatabaseWorkedWith, dtype: int64\n",
      "DevType\n",
      "False    49370\n",
      "True     15091\n",
      "Name: DevType, dtype: int64\n",
      "EdLevel\n",
      "False    57431\n",
      "True      7030\n",
      "Name: EdLevel, dtype: int64\n",
      "Employment\n",
      "False    63854\n",
      "True       607\n",
      "Name: Employment, dtype: int64\n",
      "Ethnicity\n",
      "False    45948\n",
      "True     18513\n",
      "Name: Ethnicity, dtype: int64\n",
      "Gender\n",
      "False    50557\n",
      "True     13904\n",
      "Name: Gender, dtype: int64\n",
      "JobFactors\n",
      "False    49349\n",
      "True     15112\n",
      "Name: JobFactors, dtype: int64\n",
      "JobSat\n",
      "False    45194\n",
      "True     19267\n",
      "Name: JobSat, dtype: int64\n",
      "JobSeek\n",
      "False    51727\n",
      "True     12734\n",
      "Name: JobSeek, dtype: int64\n",
      "LanguageDesireNextYear\n",
      "False    54113\n",
      "True     10348\n",
      "Name: LanguageDesireNextYear, dtype: int64\n",
      "LanguageWorkedWith\n",
      "False    57378\n",
      "True      7083\n",
      "Name: LanguageWorkedWith, dtype: int64\n",
      "MiscTechDesireNextYear\n",
      "False    42379\n",
      "True     22082\n",
      "Name: MiscTechDesireNextYear, dtype: int64\n",
      "MiscTechWorkedWith\n",
      "False    40314\n",
      "True     24147\n",
      "Name: MiscTechWorkedWith, dtype: int64\n",
      "NEWCollabToolsDesireNextYear\n",
      "False    47287\n",
      "True     17174\n",
      "Name: NEWCollabToolsDesireNextYear, dtype: int64\n",
      "NEWCollabToolsWorkedWith\n",
      "False    52883\n",
      "True     11578\n",
      "Name: NEWCollabToolsWorkedWith, dtype: int64\n",
      "NEWDevOps\n",
      "False    42686\n",
      "True     21775\n",
      "Name: NEWDevOps, dtype: int64\n",
      "NEWDevOpsImpt\n",
      "False    41732\n",
      "True     22729\n",
      "Name: NEWDevOpsImpt, dtype: int64\n",
      "NEWEdImpt\n",
      "False    48465\n",
      "True     15996\n",
      "Name: NEWEdImpt, dtype: int64\n",
      "NEWJobHunt\n",
      "False    42286\n",
      "True     22175\n",
      "Name: NEWJobHunt, dtype: int64\n",
      "NEWJobHuntResearch\n",
      "False    41022\n",
      "True     23439\n",
      "Name: NEWJobHuntResearch, dtype: int64\n",
      "NEWLearn\n",
      "False    56156\n",
      "True      8305\n",
      "Name: NEWLearn, dtype: int64\n",
      "NEWOffTopic\n",
      "False    50804\n",
      "True     13657\n",
      "Name: NEWOffTopic, dtype: int64\n",
      "NEWOnboardGood\n",
      "False    42623\n",
      "True     21838\n",
      "Name: NEWOnboardGood, dtype: int64\n",
      "NEWOtherComms\n",
      "False    57205\n",
      "True      7256\n",
      "Name: NEWOtherComms, dtype: int64\n",
      "NEWOvertime\n",
      "False    43231\n",
      "True     21230\n",
      "Name: NEWOvertime, dtype: int64\n",
      "NEWPurchaseResearch\n",
      "False    37321\n",
      "True     27140\n",
      "Name: NEWPurchaseResearch, dtype: int64\n",
      "NEWPurpleLink\n",
      "False    54803\n",
      "True      9658\n",
      "Name: NEWPurpleLink, dtype: int64\n",
      "NEWSOSites\n",
      "False    58275\n",
      "True      6186\n",
      "Name: NEWSOSites, dtype: int64\n",
      "NEWStuck\n",
      "False    54983\n",
      "True      9478\n",
      "Name: NEWStuck, dtype: int64\n",
      "OpSys\n",
      "False    56228\n",
      "True      8233\n",
      "Name: OpSys, dtype: int64\n",
      "OrgSize\n",
      "False    44334\n",
      "True     20127\n",
      "Name: OrgSize, dtype: int64\n",
      "PlatformDesireNextYear\n",
      "False    50605\n",
      "True     13856\n",
      "Name: PlatformDesireNextYear, dtype: int64\n",
      "PlatformWorkedWith\n",
      "False    53843\n",
      "True     10618\n",
      "Name: PlatformWorkedWith, dtype: int64\n",
      "PurchaseWhat\n",
      "False    39364\n",
      "True     25097\n",
      "Name: PurchaseWhat, dtype: int64\n",
      "Sexuality\n",
      "False    43992\n",
      "True     20469\n",
      "Name: Sexuality, dtype: int64\n",
      "SOAccount\n",
      "False    56805\n",
      "True      7656\n",
      "Name: SOAccount, dtype: int64\n",
      "SOComm\n",
      "False    56476\n",
      "True      7985\n",
      "Name: SOComm, dtype: int64\n",
      "SOPartFreq\n",
      "False    46792\n",
      "True     17669\n",
      "Name: SOPartFreq, dtype: int64\n",
      "SOVisitFreq\n",
      "False    56970\n",
      "True      7491\n",
      "Name: SOVisitFreq, dtype: int64\n",
      "SurveyEase\n",
      "False    51802\n",
      "True     12659\n",
      "Name: SurveyEase, dtype: int64\n",
      "SurveyLength\n",
      "False    51701\n",
      "True     12760\n",
      "Name: SurveyLength, dtype: int64\n",
      "Trans\n",
      "False    49345\n",
      "True     15116\n",
      "Name: Trans, dtype: int64\n",
      "UndergradMajor\n",
      "False    50995\n",
      "True     13466\n",
      "Name: UndergradMajor, dtype: int64\n",
      "WebframeDesireNextYear\n",
      "False    40024\n",
      "True     24437\n",
      "Name: WebframeDesireNextYear, dtype: int64\n",
      "WebframeWorkedWith\n",
      "False    42279\n",
      "True     22182\n",
      "Name: WebframeWorkedWith, dtype: int64\n",
      "WelcomeChange\n",
      "False    52683\n",
      "True     11778\n",
      "Name: WelcomeChange, dtype: int64\n",
      "WorkWeekHrs\n",
      "False    41151\n",
      "True     23310\n",
      "Name: WorkWeekHrs, dtype: int64\n",
      "YearsCode\n",
      "False    57684\n",
      "True      6777\n",
      "Name: YearsCode, dtype: int64\n",
      "YearsCodePro\n",
      "False    46349\n",
      "True     18112\n",
      "Name: YearsCodePro, dtype: int64\n"
     ]
    }
   ],
   "source": [
    "# your code goes here\n",
    "missing_value = df.isnull()\n",
    "for column in missing_value.columns.values.tolist():\n",
    "    print(column)\n",
    "    print(missing_value[column].value_counts())"
   ]
  },
  {
   "cell_type": "code",
   "execution_count": 46,
   "metadata": {},
   "outputs": [
    {
     "data": {
      "text/plain": [
       "False    45446\n",
       "True     19015\n",
       "Name: Age, dtype: int64"
      ]
     },
     "execution_count": 46,
     "metadata": {},
     "output_type": "execute_result"
    }
   ],
   "source": [
    "# your code goes here\n",
    "missing_value[\"Age\"].value_counts()"
   ]
  },
  {
   "cell_type": "markdown",
   "metadata": {},
   "source": [
    "## Imputing missing values\n"
   ]
  },
  {
   "cell_type": "markdown",
   "metadata": {},
   "source": [
    "Find the  value counts for the column Age.\n"
   ]
  },
  {
   "cell_type": "code",
   "execution_count": 47,
   "metadata": {},
   "outputs": [
    {
     "data": {
      "text/plain": [
       "25.0    2693\n",
       "28.0    2412\n",
       "30.0    2406\n",
       "26.0    2391\n",
       "27.0    2338\n",
       "        ... \n",
       "26.8       1\n",
       "3.0        1\n",
       "14.7       1\n",
       "26.5       1\n",
       "22.5       1\n",
       "Name: Age, Length: 110, dtype: int64"
      ]
     },
     "execution_count": 47,
     "metadata": {},
     "output_type": "execute_result"
    }
   ],
   "source": [
    "# your code goes here\n",
    "df[\"Age\"].value_counts()"
   ]
  },
  {
   "cell_type": "markdown",
   "metadata": {},
   "source": [
    "Find the median for the column Age\n"
   ]
  },
  {
   "cell_type": "code",
   "execution_count": 48,
   "metadata": {},
   "outputs": [
    {
     "data": {
      "text/plain": [
       "29.0"
      ]
     },
     "execution_count": 48,
     "metadata": {},
     "output_type": "execute_result"
    }
   ],
   "source": [
    "#your code goes here\n",
    "df[\"Age\"].median()"
   ]
  },
  {
   "cell_type": "markdown",
   "metadata": {},
   "source": [
    "Impute the median value to Age column\n"
   ]
  },
  {
   "cell_type": "code",
   "execution_count": 49,
   "metadata": {},
   "outputs": [
    {
     "data": {
      "text/plain": [
       "29.0    False\n",
       "25.0    False\n",
       "28.0    False\n",
       "30.0    False\n",
       "26.0    False\n",
       "        ...  \n",
       "26.8    False\n",
       "3.0     False\n",
       "14.7    False\n",
       "26.5    False\n",
       "22.5    False\n",
       "Name: Age, Length: 110, dtype: bool"
      ]
     },
     "execution_count": 49,
     "metadata": {},
     "output_type": "execute_result"
    }
   ],
   "source": [
    "# your code goes here\n",
    "import numpy as np\n",
    "df[\"Age\"].replace(np.nan, 29, inplace = True)\n",
    "df[\"Age\"].value_counts().isnull()"
   ]
  },
  {
   "cell_type": "markdown",
   "metadata": {},
   "source": [
    "Identify the value that is most frequent (majority) in the Country column.\n"
   ]
  },
  {
   "cell_type": "code",
   "execution_count": 50,
   "metadata": {},
   "outputs": [
    {
     "data": {
      "text/plain": [
       "'United States'"
      ]
     },
     "execution_count": 50,
     "metadata": {},
     "output_type": "execute_result"
    }
   ],
   "source": [
    "# your code goes here\n",
    "df[\"Country\"].value_counts().idxmax()"
   ]
  },
  {
   "cell_type": "markdown",
   "metadata": {},
   "source": [
    "Drop all the missing values from the dataset\n"
   ]
  },
  {
   "cell_type": "code",
   "execution_count": 57,
   "metadata": {},
   "outputs": [
    {
     "data": {
      "text/html": [
       "<div>\n",
       "<style scoped>\n",
       "    .dataframe tbody tr th:only-of-type {\n",
       "        vertical-align: middle;\n",
       "    }\n",
       "\n",
       "    .dataframe tbody tr th {\n",
       "        vertical-align: top;\n",
       "    }\n",
       "\n",
       "    .dataframe thead th {\n",
       "        text-align: right;\n",
       "    }\n",
       "</style>\n",
       "<table border=\"1\" class=\"dataframe\">\n",
       "  <thead>\n",
       "    <tr style=\"text-align: right;\">\n",
       "      <th></th>\n",
       "      <th>Respondent</th>\n",
       "      <th>MainBranch</th>\n",
       "      <th>Hobbyist</th>\n",
       "      <th>Age</th>\n",
       "      <th>Age1stCode</th>\n",
       "      <th>CompFreq</th>\n",
       "      <th>CompTotal</th>\n",
       "      <th>ConvertedComp</th>\n",
       "      <th>Country</th>\n",
       "      <th>CurrencyDesc</th>\n",
       "      <th>...</th>\n",
       "      <th>SurveyLength</th>\n",
       "      <th>Trans</th>\n",
       "      <th>UndergradMajor</th>\n",
       "      <th>WebframeDesireNextYear</th>\n",
       "      <th>WebframeWorkedWith</th>\n",
       "      <th>WelcomeChange</th>\n",
       "      <th>WorkWeekHrs</th>\n",
       "      <th>YearsCode</th>\n",
       "      <th>YearsCodePro</th>\n",
       "      <th>NormalizedAnnualCompensation</th>\n",
       "    </tr>\n",
       "  </thead>\n",
       "  <tbody>\n",
       "    <tr>\n",
       "      <th>0</th>\n",
       "      <td>False</td>\n",
       "      <td>False</td>\n",
       "      <td>False</td>\n",
       "      <td>False</td>\n",
       "      <td>False</td>\n",
       "      <td>False</td>\n",
       "      <td>True</td>\n",
       "      <td>True</td>\n",
       "      <td>False</td>\n",
       "      <td>False</td>\n",
       "      <td>...</td>\n",
       "      <td>False</td>\n",
       "      <td>False</td>\n",
       "      <td>False</td>\n",
       "      <td>False</td>\n",
       "      <td>False</td>\n",
       "      <td>False</td>\n",
       "      <td>False</td>\n",
       "      <td>False</td>\n",
       "      <td>False</td>\n",
       "      <td>True</td>\n",
       "    </tr>\n",
       "    <tr>\n",
       "      <th>1</th>\n",
       "      <td>False</td>\n",
       "      <td>False</td>\n",
       "      <td>False</td>\n",
       "      <td>False</td>\n",
       "      <td>False</td>\n",
       "      <td>False</td>\n",
       "      <td>True</td>\n",
       "      <td>True</td>\n",
       "      <td>False</td>\n",
       "      <td>False</td>\n",
       "      <td>...</td>\n",
       "      <td>True</td>\n",
       "      <td>True</td>\n",
       "      <td>False</td>\n",
       "      <td>True</td>\n",
       "      <td>True</td>\n",
       "      <td>False</td>\n",
       "      <td>True</td>\n",
       "      <td>False</td>\n",
       "      <td>False</td>\n",
       "      <td>True</td>\n",
       "    </tr>\n",
       "    <tr>\n",
       "      <th>2</th>\n",
       "      <td>False</td>\n",
       "      <td>False</td>\n",
       "      <td>False</td>\n",
       "      <td>False</td>\n",
       "      <td>False</td>\n",
       "      <td>False</td>\n",
       "      <td>True</td>\n",
       "      <td>True</td>\n",
       "      <td>False</td>\n",
       "      <td>True</td>\n",
       "      <td>...</td>\n",
       "      <td>False</td>\n",
       "      <td>True</td>\n",
       "      <td>True</td>\n",
       "      <td>True</td>\n",
       "      <td>True</td>\n",
       "      <td>False</td>\n",
       "      <td>True</td>\n",
       "      <td>False</td>\n",
       "      <td>True</td>\n",
       "      <td>True</td>\n",
       "    </tr>\n",
       "    <tr>\n",
       "      <th>3</th>\n",
       "      <td>False</td>\n",
       "      <td>False</td>\n",
       "      <td>False</td>\n",
       "      <td>False</td>\n",
       "      <td>False</td>\n",
       "      <td>False</td>\n",
       "      <td>True</td>\n",
       "      <td>True</td>\n",
       "      <td>False</td>\n",
       "      <td>False</td>\n",
       "      <td>...</td>\n",
       "      <td>True</td>\n",
       "      <td>False</td>\n",
       "      <td>False</td>\n",
       "      <td>True</td>\n",
       "      <td>True</td>\n",
       "      <td>False</td>\n",
       "      <td>False</td>\n",
       "      <td>False</td>\n",
       "      <td>False</td>\n",
       "      <td>True</td>\n",
       "    </tr>\n",
       "    <tr>\n",
       "      <th>4</th>\n",
       "      <td>False</td>\n",
       "      <td>False</td>\n",
       "      <td>False</td>\n",
       "      <td>False</td>\n",
       "      <td>False</td>\n",
       "      <td>False</td>\n",
       "      <td>True</td>\n",
       "      <td>True</td>\n",
       "      <td>False</td>\n",
       "      <td>True</td>\n",
       "      <td>...</td>\n",
       "      <td>False</td>\n",
       "      <td>False</td>\n",
       "      <td>False</td>\n",
       "      <td>False</td>\n",
       "      <td>False</td>\n",
       "      <td>False</td>\n",
       "      <td>True</td>\n",
       "      <td>False</td>\n",
       "      <td>False</td>\n",
       "      <td>True</td>\n",
       "    </tr>\n",
       "    <tr>\n",
       "      <th>...</th>\n",
       "      <td>...</td>\n",
       "      <td>...</td>\n",
       "      <td>...</td>\n",
       "      <td>...</td>\n",
       "      <td>...</td>\n",
       "      <td>...</td>\n",
       "      <td>...</td>\n",
       "      <td>...</td>\n",
       "      <td>...</td>\n",
       "      <td>...</td>\n",
       "      <td>...</td>\n",
       "      <td>...</td>\n",
       "      <td>...</td>\n",
       "      <td>...</td>\n",
       "      <td>...</td>\n",
       "      <td>...</td>\n",
       "      <td>...</td>\n",
       "      <td>...</td>\n",
       "      <td>...</td>\n",
       "      <td>...</td>\n",
       "      <td>...</td>\n",
       "    </tr>\n",
       "    <tr>\n",
       "      <th>64456</th>\n",
       "      <td>False</td>\n",
       "      <td>True</td>\n",
       "      <td>False</td>\n",
       "      <td>False</td>\n",
       "      <td>False</td>\n",
       "      <td>False</td>\n",
       "      <td>True</td>\n",
       "      <td>True</td>\n",
       "      <td>False</td>\n",
       "      <td>True</td>\n",
       "      <td>...</td>\n",
       "      <td>True</td>\n",
       "      <td>True</td>\n",
       "      <td>False</td>\n",
       "      <td>True</td>\n",
       "      <td>True</td>\n",
       "      <td>True</td>\n",
       "      <td>True</td>\n",
       "      <td>False</td>\n",
       "      <td>False</td>\n",
       "      <td>True</td>\n",
       "    </tr>\n",
       "    <tr>\n",
       "      <th>64457</th>\n",
       "      <td>False</td>\n",
       "      <td>True</td>\n",
       "      <td>False</td>\n",
       "      <td>False</td>\n",
       "      <td>True</td>\n",
       "      <td>False</td>\n",
       "      <td>True</td>\n",
       "      <td>True</td>\n",
       "      <td>False</td>\n",
       "      <td>True</td>\n",
       "      <td>...</td>\n",
       "      <td>True</td>\n",
       "      <td>True</td>\n",
       "      <td>True</td>\n",
       "      <td>True</td>\n",
       "      <td>True</td>\n",
       "      <td>True</td>\n",
       "      <td>True</td>\n",
       "      <td>True</td>\n",
       "      <td>True</td>\n",
       "      <td>True</td>\n",
       "    </tr>\n",
       "    <tr>\n",
       "      <th>64458</th>\n",
       "      <td>False</td>\n",
       "      <td>True</td>\n",
       "      <td>False</td>\n",
       "      <td>False</td>\n",
       "      <td>True</td>\n",
       "      <td>False</td>\n",
       "      <td>True</td>\n",
       "      <td>True</td>\n",
       "      <td>False</td>\n",
       "      <td>True</td>\n",
       "      <td>...</td>\n",
       "      <td>True</td>\n",
       "      <td>True</td>\n",
       "      <td>True</td>\n",
       "      <td>True</td>\n",
       "      <td>True</td>\n",
       "      <td>True</td>\n",
       "      <td>True</td>\n",
       "      <td>True</td>\n",
       "      <td>True</td>\n",
       "      <td>True</td>\n",
       "    </tr>\n",
       "    <tr>\n",
       "      <th>64459</th>\n",
       "      <td>False</td>\n",
       "      <td>True</td>\n",
       "      <td>False</td>\n",
       "      <td>False</td>\n",
       "      <td>True</td>\n",
       "      <td>False</td>\n",
       "      <td>True</td>\n",
       "      <td>True</td>\n",
       "      <td>False</td>\n",
       "      <td>True</td>\n",
       "      <td>...</td>\n",
       "      <td>True</td>\n",
       "      <td>True</td>\n",
       "      <td>True</td>\n",
       "      <td>False</td>\n",
       "      <td>True</td>\n",
       "      <td>True</td>\n",
       "      <td>True</td>\n",
       "      <td>True</td>\n",
       "      <td>True</td>\n",
       "      <td>True</td>\n",
       "    </tr>\n",
       "    <tr>\n",
       "      <th>64460</th>\n",
       "      <td>False</td>\n",
       "      <td>True</td>\n",
       "      <td>False</td>\n",
       "      <td>False</td>\n",
       "      <td>True</td>\n",
       "      <td>False</td>\n",
       "      <td>True</td>\n",
       "      <td>True</td>\n",
       "      <td>False</td>\n",
       "      <td>True</td>\n",
       "      <td>...</td>\n",
       "      <td>True</td>\n",
       "      <td>True</td>\n",
       "      <td>False</td>\n",
       "      <td>False</td>\n",
       "      <td>False</td>\n",
       "      <td>True</td>\n",
       "      <td>True</td>\n",
       "      <td>True</td>\n",
       "      <td>True</td>\n",
       "      <td>True</td>\n",
       "    </tr>\n",
       "  </tbody>\n",
       "</table>\n",
       "<p>64461 rows × 62 columns</p>\n",
       "</div>"
      ],
      "text/plain": [
       "       Respondent  MainBranch  Hobbyist    Age  Age1stCode  CompFreq  \\\n",
       "0           False       False     False  False       False     False   \n",
       "1           False       False     False  False       False     False   \n",
       "2           False       False     False  False       False     False   \n",
       "3           False       False     False  False       False     False   \n",
       "4           False       False     False  False       False     False   \n",
       "...           ...         ...       ...    ...         ...       ...   \n",
       "64456       False        True     False  False       False     False   \n",
       "64457       False        True     False  False        True     False   \n",
       "64458       False        True     False  False        True     False   \n",
       "64459       False        True     False  False        True     False   \n",
       "64460       False        True     False  False        True     False   \n",
       "\n",
       "       CompTotal  ConvertedComp  Country  CurrencyDesc  ...  SurveyLength  \\\n",
       "0           True           True    False         False  ...         False   \n",
       "1           True           True    False         False  ...          True   \n",
       "2           True           True    False          True  ...         False   \n",
       "3           True           True    False         False  ...          True   \n",
       "4           True           True    False          True  ...         False   \n",
       "...          ...            ...      ...           ...  ...           ...   \n",
       "64456       True           True    False          True  ...          True   \n",
       "64457       True           True    False          True  ...          True   \n",
       "64458       True           True    False          True  ...          True   \n",
       "64459       True           True    False          True  ...          True   \n",
       "64460       True           True    False          True  ...          True   \n",
       "\n",
       "       Trans  UndergradMajor  WebframeDesireNextYear  WebframeWorkedWith  \\\n",
       "0      False           False                   False               False   \n",
       "1       True           False                    True                True   \n",
       "2       True            True                    True                True   \n",
       "3      False           False                    True                True   \n",
       "4      False           False                   False               False   \n",
       "...      ...             ...                     ...                 ...   \n",
       "64456   True           False                    True                True   \n",
       "64457   True            True                    True                True   \n",
       "64458   True            True                    True                True   \n",
       "64459   True            True                   False                True   \n",
       "64460   True           False                   False               False   \n",
       "\n",
       "       WelcomeChange  WorkWeekHrs  YearsCode  YearsCodePro  \\\n",
       "0              False        False      False         False   \n",
       "1              False         True      False         False   \n",
       "2              False         True      False          True   \n",
       "3              False        False      False         False   \n",
       "4              False         True      False         False   \n",
       "...              ...          ...        ...           ...   \n",
       "64456           True         True      False         False   \n",
       "64457           True         True       True          True   \n",
       "64458           True         True       True          True   \n",
       "64459           True         True       True          True   \n",
       "64460           True         True       True          True   \n",
       "\n",
       "       NormalizedAnnualCompensation  \n",
       "0                              True  \n",
       "1                              True  \n",
       "2                              True  \n",
       "3                              True  \n",
       "4                              True  \n",
       "...                             ...  \n",
       "64456                          True  \n",
       "64457                          True  \n",
       "64458                          True  \n",
       "64459                          True  \n",
       "64460                          True  \n",
       "\n",
       "[64461 rows x 62 columns]"
      ]
     },
     "execution_count": 57,
     "metadata": {},
     "output_type": "execute_result"
    }
   ],
   "source": [
    "# your code goes here\n",
    "df.isnull()\n"
   ]
  },
  {
   "cell_type": "markdown",
   "metadata": {},
   "source": [
    "## Normalizing data\n"
   ]
  },
  {
   "cell_type": "markdown",
   "metadata": {},
   "source": [
    "There are two columns in the dataset that talk about compensation.\n",
    "\n",
    "One is \"CompFreq\". This column shows how often a developer is paid (Yearly, Monthly, Weekly).\n",
    "\n",
    "The other is \"CompTotal\". This column talks about how much the developer is paid per Year, Month, or Week depending upon his/her \"CompFreq\".\n",
    "\n",
    "This makes it difficult to compare the total compensation of the developers.\n",
    "\n",
    "In this section you will create a new column called 'NormalizedAnnualCompensation' which contains the 'Annual Compensation' irrespective of the 'CompFreq'.\n",
    "\n",
    "Once this column is ready, it makes comparison of salaries easy.\n"
   ]
  },
  {
   "cell_type": "markdown",
   "metadata": {},
   "source": [
    "<hr>\n"
   ]
  },
  {
   "cell_type": "markdown",
   "metadata": {},
   "source": [
    "List out the various categories in the column 'CompFreq'\n"
   ]
  },
  {
   "cell_type": "code",
   "execution_count": 52,
   "metadata": {},
   "outputs": [
    {
     "data": {
      "text/html": [
       "<div>\n",
       "<style scoped>\n",
       "    .dataframe tbody tr th:only-of-type {\n",
       "        vertical-align: middle;\n",
       "    }\n",
       "\n",
       "    .dataframe tbody tr th {\n",
       "        vertical-align: top;\n",
       "    }\n",
       "\n",
       "    .dataframe thead th {\n",
       "        text-align: right;\n",
       "    }\n",
       "</style>\n",
       "<table border=\"1\" class=\"dataframe\">\n",
       "  <thead>\n",
       "    <tr style=\"text-align: right;\">\n",
       "      <th></th>\n",
       "      <th>Respondent</th>\n",
       "      <th>MainBranch</th>\n",
       "      <th>Hobbyist</th>\n",
       "      <th>Age</th>\n",
       "      <th>Age1stCode</th>\n",
       "      <th>CompFreq</th>\n",
       "      <th>CompTotal</th>\n",
       "      <th>ConvertedComp</th>\n",
       "      <th>Country</th>\n",
       "      <th>CurrencyDesc</th>\n",
       "      <th>...</th>\n",
       "      <th>SurveyEase</th>\n",
       "      <th>SurveyLength</th>\n",
       "      <th>Trans</th>\n",
       "      <th>UndergradMajor</th>\n",
       "      <th>WebframeDesireNextYear</th>\n",
       "      <th>WebframeWorkedWith</th>\n",
       "      <th>WelcomeChange</th>\n",
       "      <th>WorkWeekHrs</th>\n",
       "      <th>YearsCode</th>\n",
       "      <th>YearsCodePro</th>\n",
       "    </tr>\n",
       "  </thead>\n",
       "  <tbody>\n",
       "    <tr>\n",
       "      <th>0</th>\n",
       "      <td>1</td>\n",
       "      <td>I am a developer by profession</td>\n",
       "      <td>Yes</td>\n",
       "      <td>29.0</td>\n",
       "      <td>13</td>\n",
       "      <td>Monthly</td>\n",
       "      <td>NaN</td>\n",
       "      <td>NaN</td>\n",
       "      <td>Germany</td>\n",
       "      <td>European Euro</td>\n",
       "      <td>...</td>\n",
       "      <td>Neither easy nor difficult</td>\n",
       "      <td>Appropriate in length</td>\n",
       "      <td>No</td>\n",
       "      <td>Computer science, computer engineering, or sof...</td>\n",
       "      <td>ASP.NET Core</td>\n",
       "      <td>ASP.NET;ASP.NET Core</td>\n",
       "      <td>Just as welcome now as I felt last year</td>\n",
       "      <td>50.0</td>\n",
       "      <td>36</td>\n",
       "      <td>27</td>\n",
       "    </tr>\n",
       "    <tr>\n",
       "      <th>1</th>\n",
       "      <td>2</td>\n",
       "      <td>I am a developer by profession</td>\n",
       "      <td>No</td>\n",
       "      <td>29.0</td>\n",
       "      <td>19</td>\n",
       "      <td>Yearly</td>\n",
       "      <td>NaN</td>\n",
       "      <td>NaN</td>\n",
       "      <td>United Kingdom</td>\n",
       "      <td>Pound sterling</td>\n",
       "      <td>...</td>\n",
       "      <td>NaN</td>\n",
       "      <td>NaN</td>\n",
       "      <td>NaN</td>\n",
       "      <td>Computer science, computer engineering, or sof...</td>\n",
       "      <td>NaN</td>\n",
       "      <td>NaN</td>\n",
       "      <td>Somewhat more welcome now than last year</td>\n",
       "      <td>NaN</td>\n",
       "      <td>7</td>\n",
       "      <td>4</td>\n",
       "    </tr>\n",
       "  </tbody>\n",
       "</table>\n",
       "<p>2 rows × 61 columns</p>\n",
       "</div>"
      ],
      "text/plain": [
       "   Respondent                      MainBranch Hobbyist   Age Age1stCode  \\\n",
       "0           1  I am a developer by profession      Yes  29.0         13   \n",
       "1           2  I am a developer by profession       No  29.0         19   \n",
       "\n",
       "  CompFreq  CompTotal  ConvertedComp         Country    CurrencyDesc  ...  \\\n",
       "0  Monthly        NaN            NaN         Germany   European Euro  ...   \n",
       "1   Yearly        NaN            NaN  United Kingdom  Pound sterling  ...   \n",
       "\n",
       "                   SurveyEase           SurveyLength Trans  \\\n",
       "0  Neither easy nor difficult  Appropriate in length    No   \n",
       "1                         NaN                    NaN   NaN   \n",
       "\n",
       "                                      UndergradMajor WebframeDesireNextYear  \\\n",
       "0  Computer science, computer engineering, or sof...           ASP.NET Core   \n",
       "1  Computer science, computer engineering, or sof...                    NaN   \n",
       "\n",
       "     WebframeWorkedWith                             WelcomeChange WorkWeekHrs  \\\n",
       "0  ASP.NET;ASP.NET Core   Just as welcome now as I felt last year        50.0   \n",
       "1                   NaN  Somewhat more welcome now than last year         NaN   \n",
       "\n",
       "  YearsCode YearsCodePro  \n",
       "0        36           27  \n",
       "1         7            4  \n",
       "\n",
       "[2 rows x 61 columns]"
      ]
     },
     "execution_count": 52,
     "metadata": {},
     "output_type": "execute_result"
    }
   ],
   "source": [
    "# your code goes here\n",
    "df[\"CompFreq\"].value_counts()\n",
    "mf_compfreq = df[\"CompFreq\"].value_counts().idxmax()\n",
    "mf_compfreq\n",
    "df[\"CompFreq\"].replace(np.nan, mf_compfreq, inplace = True)\n",
    "\n",
    "df[\"CompFreq\"].unique()\n",
    "df.head(2)"
   ]
  },
  {
   "cell_type": "markdown",
   "metadata": {},
   "source": [
    "Create a new column named 'NormalizedAnnualCompensation'. Use the hint given below if needed.\n"
   ]
  },
  {
   "cell_type": "markdown",
   "metadata": {},
   "source": [
    "Double click to see the **Hint**.\n",
    "\n",
    "<!--\n",
    "\n",
    "Use the below logic to arrive at the values for the column NormalizedAnnualCompensation.\n",
    "\n",
    "If the CompFreq is Yearly then use the exising value in CompTotal\n",
    "If the CompFreq is Monthly then multiply the value in CompTotal with 12 (months in an year)\n",
    "If the CompFreq is Weekly then multiply the value in CompTotal with 52 (weeks in an year)\n",
    "\n",
    "-->\n"
   ]
  },
  {
   "cell_type": "code",
   "execution_count": 53,
   "metadata": {},
   "outputs": [
    {
     "data": {
      "text/plain": [
       "104000.0"
      ]
     },
     "execution_count": 53,
     "metadata": {},
     "output_type": "execute_result"
    }
   ],
   "source": [
    "# your code goes here\n",
    "df[\"CompFreq\"].replace(\"Yearly\", 1 , inplace = True)\n",
    "df[\"CompFreq\"].replace(\"Monthly\", 12 , inplace = True)\n",
    "df[\"CompFreq\"].replace(\"Weekly\", 52 , inplace = True)\n",
    "\n",
    "# imputing of CompTotal\n",
    "#me_comptotal = df[\"CompTotal\"].median()\n",
    "#df[\"CompTotal\"].replace(np.nan, me_comptotal, inplace = True)\n",
    "# checking the nan in comptotal\n",
    "#df[\"CompTotal\"].value_counts().isnull().sum()\n",
    "\n",
    "df[\"NormalizedAnnualCompensation\"] = df[\"CompFreq\"] * df[\"CompTotal\"]\n",
    "df.head() \n",
    "\n",
    "df[\"NormalizedAnnualCompensation\"].median()"
   ]
  },
  {
   "cell_type": "markdown",
   "metadata": {},
   "source": [
    "## Authors\n"
   ]
  },
  {
   "cell_type": "markdown",
   "metadata": {},
   "source": [
    "Ramesh Sannareddy\n"
   ]
  },
  {
   "cell_type": "markdown",
   "metadata": {},
   "source": [
    "### Other Contributors\n"
   ]
  },
  {
   "cell_type": "markdown",
   "metadata": {},
   "source": [
    "Rav Ahuja\n"
   ]
  },
  {
   "cell_type": "markdown",
   "metadata": {},
   "source": [
    "## Change Log\n"
   ]
  },
  {
   "cell_type": "markdown",
   "metadata": {},
   "source": [
    "| Date (YYYY-MM-DD) | Version | Changed By        | Change Description                 |\n",
    "| ----------------- | ------- | ----------------- | ---------------------------------- |\n",
    "| 2020-10-17        | 0.1     | Ramesh Sannareddy | Created initial version of the lab |\n"
   ]
  },
  {
   "cell_type": "markdown",
   "metadata": {},
   "source": [
    "Copyright © 2020 IBM Corporation. This notebook and its source code are released under the terms of the [MIT License](https://cognitiveclass.ai/mit-license?utm_medium=Exinfluencer&utm_source=Exinfluencer&utm_content=000026UJ&utm_term=10006555&utm_id=NA-SkillsNetwork-Channel-SkillsNetworkCoursesIBMDA0321ENSkillsNetwork21426264-2021-01-01&cm_mmc=Email_Newsletter-\\_-Developer_Ed%2BTech-\\_-WW_WW-\\_-SkillsNetwork-Courses-IBM-DA0321EN-SkillsNetwork-21426264&cm_mmca1=000026UJ&cm_mmca2=10006555&cm_mmca3=M12345678&cvosrc=email.Newsletter.M12345678&cvo_campaign=000026UJ).\n"
   ]
  }
 ],
 "metadata": {
  "kernelspec": {
   "display_name": "Python 3",
   "language": "python",
   "name": "python3"
  },
  "language_info": {
   "codemirror_mode": {
    "name": "ipython",
    "version": 3
   },
   "file_extension": ".py",
   "mimetype": "text/x-python",
   "name": "python",
   "nbconvert_exporter": "python",
   "pygments_lexer": "ipython3",
   "version": "3.8.8"
  }
 },
 "nbformat": 4,
 "nbformat_minor": 4
}
