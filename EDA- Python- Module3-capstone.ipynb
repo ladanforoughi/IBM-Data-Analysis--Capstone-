{
 "cells": [
  {
   "cell_type": "markdown",
   "metadata": {},
   "source": [
    "<center>\n",
    "    <img src=\"https://gitlab.com/ibm/skills-network/courses/placeholder101/-/raw/master/labs/module%201/images/IDSNlogo.png\" width=\"300\" alt=\"cognitiveclass.ai logo\"  />\n",
    "</center>\n"
   ]
  },
  {
   "cell_type": "markdown",
   "metadata": {},
   "source": [
    "# **Exploratory Data Analysis Lab**\n"
   ]
  },
  {
   "cell_type": "markdown",
   "metadata": {},
   "source": [
    "Estimated time needed: **30** minutes\n"
   ]
  },
  {
   "cell_type": "markdown",
   "metadata": {},
   "source": [
    "In this module you get to work with the cleaned dataset from the previous module.\n",
    "\n",
    "In this assignment you will perform the task of exploratory data analysis.\n",
    "You will find out the distribution of data, presence of outliers and also determine the correlation between different columns in the dataset.\n"
   ]
  },
  {
   "cell_type": "markdown",
   "metadata": {},
   "source": [
    "## Objectives\n"
   ]
  },
  {
   "cell_type": "markdown",
   "metadata": {},
   "source": [
    "In this lab you will perform the following:\n"
   ]
  },
  {
   "cell_type": "markdown",
   "metadata": {},
   "source": [
    "*   Identify the distribution of data in the dataset.\n",
    "\n",
    "*   Identify outliers in the dataset.\n",
    "\n",
    "*   Remove outliers from the dataset.\n",
    "\n",
    "*   Identify correlation between features in the dataset.\n"
   ]
  },
  {
   "cell_type": "markdown",
   "metadata": {},
   "source": [
    "***\n"
   ]
  },
  {
   "cell_type": "markdown",
   "metadata": {},
   "source": [
    "## Hands on Lab\n"
   ]
  },
  {
   "cell_type": "markdown",
   "metadata": {},
   "source": [
    "Import the pandas module.\n"
   ]
  },
  {
   "cell_type": "code",
   "execution_count": 1,
   "metadata": {},
   "outputs": [],
   "source": [
    "import pandas as pd"
   ]
  },
  {
   "cell_type": "markdown",
   "metadata": {},
   "source": [
    "Load the dataset into a dataframe.\n"
   ]
  },
  {
   "cell_type": "code",
   "execution_count": 2,
   "metadata": {},
   "outputs": [],
   "source": [
    "df = pd.read_csv(\"https://cf-courses-data.s3.us.cloud-object-storage.appdomain.cloud/IBM-DA0321EN-SkillsNetwork/labs/Capstone_edX/Module%203/Survey_data.csv\")"
   ]
  },
  {
   "cell_type": "markdown",
   "metadata": {},
   "source": [
    "## Distribution\n"
   ]
  },
  {
   "cell_type": "markdown",
   "metadata": {},
   "source": [
    "### Determine how the data is distributed\n"
   ]
  },
  {
   "cell_type": "markdown",
   "metadata": {},
   "source": [
    "The column `ConvertedComp` contains Salary converted to annual USD salaries using the exchange rate on 2019-02-01.\n",
    "\n",
    "This assumes 12 working months and 50 working weeks.\n"
   ]
  },
  {
   "cell_type": "markdown",
   "metadata": {},
   "source": [
    "Plot the distribution curve for the column `ConvertedComp`.\n"
   ]
  },
  {
   "cell_type": "code",
   "execution_count": 10,
   "metadata": {},
   "outputs": [],
   "source": [
    "import numpy as np\n",
    "import matplotlib.pyplot as plt\n",
    "import seaborn as sns\n",
    "from scipy.stats import norm\n",
    "%matplotlib inline"
   ]
  },
  {
   "cell_type": "code",
   "execution_count": 11,
   "metadata": {},
   "outputs": [
    {
     "name": "stderr",
     "output_type": "stream",
     "text": [
      "C:\\Users\\ladan\\anaconda3\\lib\\site-packages\\seaborn\\distributions.py:2557: FutureWarning: `distplot` is a deprecated function and will be removed in a future version. Please adapt your code to use either `displot` (a figure-level function with similar flexibility) or `kdeplot` (an axes-level function for kernel density plots).\n",
      "  warnings.warn(msg, FutureWarning)\n"
     ]
    },
    {
     "data": {
      "image/png": "[encoded data removed]",
      "text/plain": [
       "<Figure size 720x360 with 1 Axes>"
      ]
     },
     "metadata": {
      "needs_background": "light"
     },
     "output_type": "display_data"
    }
   ],
   "source": [
    "# your code goes here\n",
    "plt.figure(figsize=(10,5))\n",
    "sns.distplot(a=df[\"ConvertedComp\"],bins=20,hist=False)\n",
    "plt.show()"
   ]
  },
  {
   "cell_type": "markdown",
   "metadata": {},
   "source": [
    "Plot the histogram for the column `ConvertedComp`.\n"
   ]
  },
  {
   "cell_type": "code",
   "execution_count": 14,
   "metadata": {},
   "outputs": [
    {
     "data": {
      "image/png": "[encoded data removed]",
      "text/plain": [
       "<Figure size 720x360 with 1 Axes>"
      ]
     },
     "metadata": {
      "needs_background": "light"
     },
     "output_type": "display_data"
    }
   ],
   "source": [
    "# your code goes here\n",
    "plt.figure(figsize = (10,5))\n",
    "sns.distplot(a=df[\"ConvertedComp\"],bins=30,kde = False)\n",
    "plt.show()"
   ]
  },
  {
   "cell_type": "markdown",
   "metadata": {},
   "source": [
    "What is the median of the column `ConvertedComp`?\n"
   ]
  },
  {
   "cell_type": "code",
   "execution_count": 15,
   "metadata": {},
   "outputs": [
    {
     "data": {
      "text/plain": [
       "60505.0"
      ]
     },
     "execution_count": 15,
     "metadata": {},
     "output_type": "execute_result"
    }
   ],
   "source": [
    "# your code goes here\n",
    "df[\"ConvertedComp\"].median()"
   ]
  },
  {
   "cell_type": "markdown",
   "metadata": {},
   "source": [
    "How many responders identified themselves only as a **Man**?\n"
   ]
  },
  {
   "cell_type": "code",
   "execution_count": 17,
   "metadata": {},
   "outputs": [
    {
     "data": {
      "text/plain": [
       "Man                                                            4184\n",
       "Woman                                                           171\n",
       "Non-binary, genderqueer, or gender non-conforming                18\n",
       "Man;Non-binary, genderqueer, or gender non-conforming             9\n",
       "Woman;Non-binary, genderqueer, or gender non-conforming           2\n",
       "Woman;Man;Non-binary, genderqueer, or gender non-conforming       2\n",
       "Woman;Man                                                         1\n",
       "Name: Gender, dtype: int64"
      ]
     },
     "execution_count": 17,
     "metadata": {},
     "output_type": "execute_result"
    }
   ],
   "source": [
    "# your code goes here\n",
    "df[\"Gender\"].value_counts()"
   ]
  },
  {
   "cell_type": "markdown",
   "metadata": {},
   "source": [
    "Find out the  median ConvertedComp of responders identified themselves only as a **Woman**?\n"
   ]
  },
  {
   "cell_type": "code",
   "execution_count": 20,
   "metadata": {},
   "outputs": [
    {
     "data": {
      "text/plain": [
       "59454.0"
      ]
     },
     "execution_count": 20,
     "metadata": {},
     "output_type": "execute_result"
    }
   ],
   "source": [
    "# your code goes here\n",
    "Woman = df[df[\"Gender\"] == \"Woman\"]\n",
    "Woman[\"ConvertedComp\"].median()"
   ]
  },
  {
   "cell_type": "markdown",
   "metadata": {},
   "source": [
    "Give the five number summary for the column `Age`?\n"
   ]
  },
  {
   "cell_type": "markdown",
   "metadata": {},
   "source": [
    "**Double click here for hint**.\n",
    "\n",
    "<!--\n",
    "min,q1,median,q3,max of a column are its five number summary.\n",
    "-->\n"
   ]
  },
  {
   "cell_type": "code",
   "execution_count": 21,
   "metadata": {},
   "outputs": [
    {
     "data": {
      "text/plain": [
       "count    4387.000000\n",
       "mean       31.950308\n",
       "std         7.357480\n",
       "min        17.000000\n",
       "25%        27.000000\n",
       "50%        30.000000\n",
       "75%        36.000000\n",
       "max        70.000000\n",
       "Name: Age, dtype: float64"
      ]
     },
     "execution_count": 21,
     "metadata": {},
     "output_type": "execute_result"
    }
   ],
   "source": [
    "# your code goes here\n",
    "df[\"Age\"].describe()"
   ]
  },
  {
   "cell_type": "markdown",
   "metadata": {},
   "source": [
    "Plot a histogram of the column `Age`.\n"
   ]
  },
  {
   "cell_type": "code",
   "execution_count": 22,
   "metadata": {},
   "outputs": [
    {
     "name": "stderr",
     "output_type": "stream",
     "text": [
      "C:\\Users\\ladan\\anaconda3\\lib\\site-packages\\seaborn\\distributions.py:2557: FutureWarning: `distplot` is a deprecated function and will be removed in a future version. Please adapt your code to use either `displot` (a figure-level function with similar flexibility) or `histplot` (an axes-level function for histograms).\n",
      "  warnings.warn(msg, FutureWarning)\n"
     ]
    },
    {
     "data": {
      "image/png": "[encoded data removed]",
      "text/plain": [
       "<Figure size 720x360 with 1 Axes>"
      ]
     },
     "metadata": {
      "needs_background": "light"
     },
     "output_type": "display_data"
    }
   ],
   "source": [
    "# your code goes here\n",
    "plt.figure(figsize = (10,5))\n",
    "sns.distplot(df[\"Age\"], bins = 30, kde = False)\n",
    "plt.show()"
   ]
  },
  {
   "cell_type": "markdown",
   "metadata": {},
   "source": [
    "## Outliers\n"
   ]
  },
  {
   "cell_type": "markdown",
   "metadata": {},
   "source": [
    "### Finding outliers\n"
   ]
  },
  {
   "cell_type": "markdown",
   "metadata": {},
   "source": [
    "Find out if outliers exist in the column `ConvertedComp` using a box plot?\n"
   ]
  },
  {
   "cell_type": "code",
   "execution_count": 25,
   "metadata": {},
   "outputs": [
    {
     "name": "stderr",
     "output_type": "stream",
     "text": [
      "C:\\Users\\ladan\\anaconda3\\lib\\site-packages\\seaborn\\_decorators.py:36: FutureWarning: Pass the following variable as a keyword arg: x. From version 0.12, the only valid positional argument will be `data`, and passing other arguments without an explicit keyword will result in an error or misinterpretation.\n",
      "  warnings.warn(\n"
     ]
    },
    {
     "data": {
      "image/png": "[encoded data removed]",
      "text/plain": [
       "<Figure size 720x360 with 1 Axes>"
      ]
     },
     "metadata": {
      "needs_background": "light"
     },
     "output_type": "display_data"
    }
   ],
   "source": [
    "# your code goes here\n",
    "plt.figure(figsize = (10,5))\n",
    "sns.boxplot(df[\"ConvertedComp\"], data = df)\n",
    "plt.show()"
   ]
  },
  {
   "cell_type": "markdown",
   "metadata": {},
   "source": [
    "Find out the Inter Quartile Range for the column `ConvertedComp`.\n"
   ]
  },
  {
   "cell_type": "code",
   "execution_count": 26,
   "metadata": {},
   "outputs": [
    {
     "data": {
      "text/plain": [
       "69844.0"
      ]
     },
     "execution_count": 26,
     "metadata": {},
     "output_type": "execute_result"
    }
   ],
   "source": [
    "# your code goes here\n",
    "Q1 = df[\"ConvertedComp\"].quantile(0.25)\n",
    "Q3 = df[\"ConvertedComp\"].quantile(0.75)\n",
    "IQR = Q3 - Q1\n",
    "IQR"
   ]
  },
  {
   "cell_type": "markdown",
   "metadata": {},
   "source": [
    "Find out the upper and lower bounds.\n"
   ]
  },
  {
   "cell_type": "code",
   "execution_count": 27,
   "metadata": {},
   "outputs": [
    {
     "name": "stdout",
     "output_type": "stream",
     "text": [
      "204766.0\n",
      "-74610.0\n"
     ]
    }
   ],
   "source": [
    "# your code goes here\n",
    "upper_bound = Q3 + 1.5 * IQR\n",
    "print(upper_bound)\n",
    "lower_bound = Q1 -1.5 * IQR\n",
    "print(lower_bound)"
   ]
  },
  {
   "cell_type": "markdown",
   "metadata": {},
   "source": [
    "Identify how many outliers are there in the `ConvertedComp` column.\n"
   ]
  },
  {
   "cell_type": "code",
   "execution_count": 28,
   "metadata": {},
   "outputs": [
    {
     "data": {
      "text/plain": [
       "False    4121\n",
       "True      266\n",
       "Name: ConvertedComp, dtype: int64"
      ]
     },
     "execution_count": 28,
     "metadata": {},
     "output_type": "execute_result"
    }
   ],
   "source": [
    "# your code goes here\n",
    "total_outlier = (df[\"ConvertedComp\"] > upper_bound) | (df[\"ConvertedComp\"] < lower_bound)\n",
    "total_outlier.value_counts()"
   ]
  },
  {
   "cell_type": "markdown",
   "metadata": {},
   "source": [
    "Create a new dataframe by removing the outliers from the `ConvertedComp` column.\n"
   ]
  },
  {
   "cell_type": "code",
   "execution_count": 37,
   "metadata": {},
   "outputs": [
    {
     "data": {
      "text/html": [
       "<div>\n",
       "<style scoped>\n",
       "    .dataframe tbody tr th:only-of-type {\n",
       "        vertical-align: middle;\n",
       "    }\n",
       "\n",
       "    .dataframe tbody tr th {\n",
       "        vertical-align: top;\n",
       "    }\n",
       "\n",
       "    .dataframe thead th {\n",
       "        text-align: right;\n",
       "    }\n",
       "</style>\n",
       "<table border=\"1\" class=\"dataframe\">\n",
       "  <thead>\n",
       "    <tr style=\"text-align: right;\">\n",
       "      <th></th>\n",
       "      <th>Unnamed: 0</th>\n",
       "      <th>Respondent</th>\n",
       "      <th>MainBranch</th>\n",
       "      <th>Hobbyist</th>\n",
       "      <th>Age</th>\n",
       "      <th>Age1stCode</th>\n",
       "      <th>CompFreq</th>\n",
       "      <th>CompTotal</th>\n",
       "      <th>ConvertedComp</th>\n",
       "      <th>Country</th>\n",
       "      <th>...</th>\n",
       "      <th>SurveyLength</th>\n",
       "      <th>Trans</th>\n",
       "      <th>UndergradMajor</th>\n",
       "      <th>WebframeDesireNextYear</th>\n",
       "      <th>WebframeWorkedWith</th>\n",
       "      <th>WelcomeChange</th>\n",
       "      <th>WorkWeekHrs</th>\n",
       "      <th>YearsCode</th>\n",
       "      <th>YearsCodePro</th>\n",
       "      <th>NormalizedAnnualCompensation</th>\n",
       "    </tr>\n",
       "  </thead>\n",
       "  <tbody>\n",
       "    <tr>\n",
       "      <th>0</th>\n",
       "      <td>9</td>\n",
       "      <td>10</td>\n",
       "      <td>I am a developer by profession</td>\n",
       "      <td>Yes</td>\n",
       "      <td>22.0</td>\n",
       "      <td>14</td>\n",
       "      <td>Yearly</td>\n",
       "      <td>25000.0</td>\n",
       "      <td>32315.0</td>\n",
       "      <td>United Kingdom</td>\n",
       "      <td>...</td>\n",
       "      <td>Appropriate in length</td>\n",
       "      <td>No</td>\n",
       "      <td>Mathematics or statistics</td>\n",
       "      <td>Flask;jQuery</td>\n",
       "      <td>Flask;jQuery</td>\n",
       "      <td>Somewhat more welcome now than last year</td>\n",
       "      <td>36.0</td>\n",
       "      <td>8</td>\n",
       "      <td>4</td>\n",
       "      <td>25000.0</td>\n",
       "    </tr>\n",
       "    <tr>\n",
       "      <th>1</th>\n",
       "      <td>32</td>\n",
       "      <td>33</td>\n",
       "      <td>I am a developer by profession</td>\n",
       "      <td>Yes</td>\n",
       "      <td>39.0</td>\n",
       "      <td>14</td>\n",
       "      <td>Monthly</td>\n",
       "      <td>4900.0</td>\n",
       "      <td>63564.0</td>\n",
       "      <td>Belgium</td>\n",
       "      <td>...</td>\n",
       "      <td>Appropriate in length</td>\n",
       "      <td>No</td>\n",
       "      <td>Computer science, computer engineering, or sof...</td>\n",
       "      <td>Express;Gatsby;React.js;Ruby on Rails</td>\n",
       "      <td>Angular;Angular.js;Django;Express;React.js</td>\n",
       "      <td>Just as welcome now as I felt last year</td>\n",
       "      <td>40.0</td>\n",
       "      <td>20</td>\n",
       "      <td>14</td>\n",
       "      <td>58800.0</td>\n",
       "    </tr>\n",
       "    <tr>\n",
       "      <th>2</th>\n",
       "      <td>41</td>\n",
       "      <td>42</td>\n",
       "      <td>I am a developer by profession</td>\n",
       "      <td>No</td>\n",
       "      <td>32.0</td>\n",
       "      <td>14</td>\n",
       "      <td>Yearly</td>\n",
       "      <td>130000.0</td>\n",
       "      <td>130000.0</td>\n",
       "      <td>United States</td>\n",
       "      <td>...</td>\n",
       "      <td>Appropriate in length</td>\n",
       "      <td>No</td>\n",
       "      <td>Computer science, computer engineering, or sof...</td>\n",
       "      <td>ASP.NET Core;Spring</td>\n",
       "      <td>ASP.NET;Flask;React.js;Spring</td>\n",
       "      <td>Somewhat less welcome now than last year</td>\n",
       "      <td>37.0</td>\n",
       "      <td>16</td>\n",
       "      <td>10</td>\n",
       "      <td>130000.0</td>\n",
       "    </tr>\n",
       "    <tr>\n",
       "      <th>3</th>\n",
       "      <td>46</td>\n",
       "      <td>47</td>\n",
       "      <td>I am a developer by profession</td>\n",
       "      <td>Yes</td>\n",
       "      <td>53.0</td>\n",
       "      <td>10</td>\n",
       "      <td>Yearly</td>\n",
       "      <td>58000.0</td>\n",
       "      <td>74970.0</td>\n",
       "      <td>United Kingdom</td>\n",
       "      <td>...</td>\n",
       "      <td>Appropriate in length</td>\n",
       "      <td>No</td>\n",
       "      <td>A natural science (such as biology, chemistry,...</td>\n",
       "      <td>Flask;Spring</td>\n",
       "      <td>Flask;Spring</td>\n",
       "      <td>Just as welcome now as I felt last year</td>\n",
       "      <td>40.0</td>\n",
       "      <td>43</td>\n",
       "      <td>28</td>\n",
       "      <td>58000.0</td>\n",
       "    </tr>\n",
       "    <tr>\n",
       "      <th>5</th>\n",
       "      <td>79</td>\n",
       "      <td>80</td>\n",
       "      <td>I am a developer by profession</td>\n",
       "      <td>Yes</td>\n",
       "      <td>32.0</td>\n",
       "      <td>11</td>\n",
       "      <td>Yearly</td>\n",
       "      <td>94500.0</td>\n",
       "      <td>94500.0</td>\n",
       "      <td>United States</td>\n",
       "      <td>...</td>\n",
       "      <td>Too long</td>\n",
       "      <td>No</td>\n",
       "      <td>Information systems, information technology, o...</td>\n",
       "      <td>Angular;ASP.NET Core</td>\n",
       "      <td>Angular;ASP.NET;ASP.NET Core</td>\n",
       "      <td>Just as welcome now as I felt last year</td>\n",
       "      <td>40.0</td>\n",
       "      <td>21</td>\n",
       "      <td>7</td>\n",
       "      <td>94500.0</td>\n",
       "    </tr>\n",
       "    <tr>\n",
       "      <th>...</th>\n",
       "      <td>...</td>\n",
       "      <td>...</td>\n",
       "      <td>...</td>\n",
       "      <td>...</td>\n",
       "      <td>...</td>\n",
       "      <td>...</td>\n",
       "      <td>...</td>\n",
       "      <td>...</td>\n",
       "      <td>...</td>\n",
       "      <td>...</td>\n",
       "      <td>...</td>\n",
       "      <td>...</td>\n",
       "      <td>...</td>\n",
       "      <td>...</td>\n",
       "      <td>...</td>\n",
       "      <td>...</td>\n",
       "      <td>...</td>\n",
       "      <td>...</td>\n",
       "      <td>...</td>\n",
       "      <td>...</td>\n",
       "      <td>...</td>\n",
       "    </tr>\n",
       "    <tr>\n",
       "      <th>4382</th>\n",
       "      <td>61636</td>\n",
       "      <td>62886</td>\n",
       "      <td>I am a developer by profession</td>\n",
       "      <td>Yes</td>\n",
       "      <td>32.0</td>\n",
       "      <td>24</td>\n",
       "      <td>Yearly</td>\n",
       "      <td>102700.0</td>\n",
       "      <td>102700.0</td>\n",
       "      <td>United States</td>\n",
       "      <td>...</td>\n",
       "      <td>Appropriate in length</td>\n",
       "      <td>No</td>\n",
       "      <td>Information systems, information technology, o...</td>\n",
       "      <td>Angular</td>\n",
       "      <td>Angular;Angular.js;ASP.NET Core</td>\n",
       "      <td>Somewhat more welcome now than last year</td>\n",
       "      <td>45.0</td>\n",
       "      <td>7</td>\n",
       "      <td>5</td>\n",
       "      <td>102700.0</td>\n",
       "    </tr>\n",
       "    <tr>\n",
       "      <th>4383</th>\n",
       "      <td>61654</td>\n",
       "      <td>62904</td>\n",
       "      <td>I am a developer by profession</td>\n",
       "      <td>Yes</td>\n",
       "      <td>33.0</td>\n",
       "      <td>24</td>\n",
       "      <td>Yearly</td>\n",
       "      <td>95000.0</td>\n",
       "      <td>95000.0</td>\n",
       "      <td>United States</td>\n",
       "      <td>...</td>\n",
       "      <td>Too long</td>\n",
       "      <td>No</td>\n",
       "      <td>Computer science, computer engineering, or sof...</td>\n",
       "      <td>Express;React.js</td>\n",
       "      <td>Express;Laravel;React.js;Vue.js</td>\n",
       "      <td>Just as welcome now as I felt last year</td>\n",
       "      <td>50.0</td>\n",
       "      <td>9</td>\n",
       "      <td>7</td>\n",
       "      <td>95000.0</td>\n",
       "    </tr>\n",
       "    <tr>\n",
       "      <th>4384</th>\n",
       "      <td>61993</td>\n",
       "      <td>63288</td>\n",
       "      <td>I am a developer by profession</td>\n",
       "      <td>No</td>\n",
       "      <td>31.0</td>\n",
       "      <td>16</td>\n",
       "      <td>Yearly</td>\n",
       "      <td>65000.0</td>\n",
       "      <td>84019.0</td>\n",
       "      <td>United Kingdom</td>\n",
       "      <td>...</td>\n",
       "      <td>Appropriate in length</td>\n",
       "      <td>No</td>\n",
       "      <td>Computer science, computer engineering, or sof...</td>\n",
       "      <td>Angular;Angular.js;Express</td>\n",
       "      <td>Angular;Angular.js;Express</td>\n",
       "      <td>Just as welcome now as I felt last year</td>\n",
       "      <td>40.0</td>\n",
       "      <td>14</td>\n",
       "      <td>7</td>\n",
       "      <td>65000.0</td>\n",
       "    </tr>\n",
       "    <tr>\n",
       "      <th>4385</th>\n",
       "      <td>63141</td>\n",
       "      <td>64523</td>\n",
       "      <td>I am a developer by profession</td>\n",
       "      <td>No</td>\n",
       "      <td>29.0</td>\n",
       "      <td>15</td>\n",
       "      <td>Monthly</td>\n",
       "      <td>8500.0</td>\n",
       "      <td>23364.0</td>\n",
       "      <td>Brazil</td>\n",
       "      <td>...</td>\n",
       "      <td>Appropriate in length</td>\n",
       "      <td>No</td>\n",
       "      <td>Computer science, computer engineering, or sof...</td>\n",
       "      <td>Angular;ASP.NET;ASP.NET Core;React.js;Vue.js</td>\n",
       "      <td>ASP.NET;ASP.NET Core;jQuery</td>\n",
       "      <td>Somewhat more welcome now than last year</td>\n",
       "      <td>40.0</td>\n",
       "      <td>19</td>\n",
       "      <td>17</td>\n",
       "      <td>102000.0</td>\n",
       "    </tr>\n",
       "    <tr>\n",
       "      <th>4386</th>\n",
       "      <td>63517</td>\n",
       "      <td>64938</td>\n",
       "      <td>I am a developer by profession</td>\n",
       "      <td>No</td>\n",
       "      <td>33.0</td>\n",
       "      <td>13</td>\n",
       "      <td>Yearly</td>\n",
       "      <td>55000.0</td>\n",
       "      <td>59454.0</td>\n",
       "      <td>France</td>\n",
       "      <td>...</td>\n",
       "      <td>Appropriate in length</td>\n",
       "      <td>No</td>\n",
       "      <td>Computer science, computer engineering, or sof...</td>\n",
       "      <td>Django;Flask</td>\n",
       "      <td>Django;Flask;jQuery;Ruby on Rails</td>\n",
       "      <td>Just as welcome now as I felt last year</td>\n",
       "      <td>40.0</td>\n",
       "      <td>20</td>\n",
       "      <td>12</td>\n",
       "      <td>55000.0</td>\n",
       "    </tr>\n",
       "  </tbody>\n",
       "</table>\n",
       "<p>4121 rows × 63 columns</p>\n",
       "</div>"
      ],
      "text/plain": [
       "      Unnamed: 0  Respondent                      MainBranch Hobbyist   Age  \\\n",
       "0              9          10  I am a developer by profession      Yes  22.0   \n",
       "1             32          33  I am a developer by profession      Yes  39.0   \n",
       "2             41          42  I am a developer by profession       No  32.0   \n",
       "3             46          47  I am a developer by profession      Yes  53.0   \n",
       "5             79          80  I am a developer by profession      Yes  32.0   \n",
       "...          ...         ...                             ...      ...   ...   \n",
       "4382       61636       62886  I am a developer by profession      Yes  32.0   \n",
       "4383       61654       62904  I am a developer by profession      Yes  33.0   \n",
       "4384       61993       63288  I am a developer by profession       No  31.0   \n",
       "4385       63141       64523  I am a developer by profession       No  29.0   \n",
       "4386       63517       64938  I am a developer by profession       No  33.0   \n",
       "\n",
       "     Age1stCode CompFreq  CompTotal  ConvertedComp         Country  ...  \\\n",
       "0            14   Yearly    25000.0        32315.0  United Kingdom  ...   \n",
       "1            14  Monthly     4900.0        63564.0         Belgium  ...   \n",
       "2            14   Yearly   130000.0       130000.0   United States  ...   \n",
       "3            10   Yearly    58000.0        74970.0  United Kingdom  ...   \n",
       "5            11   Yearly    94500.0        94500.0   United States  ...   \n",
       "...         ...      ...        ...            ...             ...  ...   \n",
       "4382         24   Yearly   102700.0       102700.0   United States  ...   \n",
       "4383         24   Yearly    95000.0        95000.0   United States  ...   \n",
       "4384         16   Yearly    65000.0        84019.0  United Kingdom  ...   \n",
       "4385         15  Monthly     8500.0        23364.0          Brazil  ...   \n",
       "4386         13   Yearly    55000.0        59454.0          France  ...   \n",
       "\n",
       "               SurveyLength Trans  \\\n",
       "0     Appropriate in length    No   \n",
       "1     Appropriate in length    No   \n",
       "2     Appropriate in length    No   \n",
       "3     Appropriate in length    No   \n",
       "5                  Too long    No   \n",
       "...                     ...   ...   \n",
       "4382  Appropriate in length    No   \n",
       "4383               Too long    No   \n",
       "4384  Appropriate in length    No   \n",
       "4385  Appropriate in length    No   \n",
       "4386  Appropriate in length    No   \n",
       "\n",
       "                                         UndergradMajor  \\\n",
       "0                             Mathematics or statistics   \n",
       "1     Computer science, computer engineering, or sof...   \n",
       "2     Computer science, computer engineering, or sof...   \n",
       "3     A natural science (such as biology, chemistry,...   \n",
       "5     Information systems, information technology, o...   \n",
       "...                                                 ...   \n",
       "4382  Information systems, information technology, o...   \n",
       "4383  Computer science, computer engineering, or sof...   \n",
       "4384  Computer science, computer engineering, or sof...   \n",
       "4385  Computer science, computer engineering, or sof...   \n",
       "4386  Computer science, computer engineering, or sof...   \n",
       "\n",
       "                            WebframeDesireNextYear  \\\n",
       "0                                     Flask;jQuery   \n",
       "1            Express;Gatsby;React.js;Ruby on Rails   \n",
       "2                              ASP.NET Core;Spring   \n",
       "3                                     Flask;Spring   \n",
       "5                             Angular;ASP.NET Core   \n",
       "...                                            ...   \n",
       "4382                                       Angular   \n",
       "4383                              Express;React.js   \n",
       "4384                    Angular;Angular.js;Express   \n",
       "4385  Angular;ASP.NET;ASP.NET Core;React.js;Vue.js   \n",
       "4386                                  Django;Flask   \n",
       "\n",
       "                              WebframeWorkedWith  \\\n",
       "0                                   Flask;jQuery   \n",
       "1     Angular;Angular.js;Django;Express;React.js   \n",
       "2                  ASP.NET;Flask;React.js;Spring   \n",
       "3                                   Flask;Spring   \n",
       "5                   Angular;ASP.NET;ASP.NET Core   \n",
       "...                                          ...   \n",
       "4382             Angular;Angular.js;ASP.NET Core   \n",
       "4383             Express;Laravel;React.js;Vue.js   \n",
       "4384                  Angular;Angular.js;Express   \n",
       "4385                 ASP.NET;ASP.NET Core;jQuery   \n",
       "4386           Django;Flask;jQuery;Ruby on Rails   \n",
       "\n",
       "                                 WelcomeChange WorkWeekHrs YearsCode  \\\n",
       "0     Somewhat more welcome now than last year        36.0         8   \n",
       "1      Just as welcome now as I felt last year        40.0        20   \n",
       "2     Somewhat less welcome now than last year        37.0        16   \n",
       "3      Just as welcome now as I felt last year        40.0        43   \n",
       "5      Just as welcome now as I felt last year        40.0        21   \n",
       "...                                        ...         ...       ...   \n",
       "4382  Somewhat more welcome now than last year        45.0         7   \n",
       "4383   Just as welcome now as I felt last year        50.0         9   \n",
       "4384   Just as welcome now as I felt last year        40.0        14   \n",
       "4385  Somewhat more welcome now than last year        40.0        19   \n",
       "4386   Just as welcome now as I felt last year        40.0        20   \n",
       "\n",
       "     YearsCodePro NormalizedAnnualCompensation  \n",
       "0               4                      25000.0  \n",
       "1              14                      58800.0  \n",
       "2              10                     130000.0  \n",
       "3              28                      58000.0  \n",
       "5               7                      94500.0  \n",
       "...           ...                          ...  \n",
       "4382            5                     102700.0  \n",
       "4383            7                      95000.0  \n",
       "4384            7                      65000.0  \n",
       "4385           17                     102000.0  \n",
       "4386           12                      55000.0  \n",
       "\n",
       "[4121 rows x 63 columns]"
      ]
     },
     "execution_count": 37,
     "metadata": {},
     "output_type": "execute_result"
    }
   ],
   "source": [
    "# your code goes her\n",
    "\n",
    "x = df['ConvertedComp'].clip(lower = lower_bound, upper = upper_bound)\n",
    "df_new = df[df[\"ConvertedComp\"] == x]\n",
    "df_new[\"ConvertedComp\"].mean()\n",
    "\n",
    "pd.DataFrame(df_new)"
   ]
  },
  {
   "cell_type": "markdown",
   "metadata": {},
   "source": [
    "## Correlation\n"
   ]
  },
  {
   "cell_type": "markdown",
   "metadata": {},
   "source": [
    "### Finding correlation\n"
   ]
  },
  {
   "cell_type": "markdown",
   "metadata": {},
   "source": [
    "Find the correlation between `Age` and all other numerical columns.\n"
   ]
  },
  {
   "cell_type": "code",
   "execution_count": 42,
   "metadata": {},
   "outputs": [
    {
     "data": {
      "text/html": [
       "<div>\n",
       "<style scoped>\n",
       "    .dataframe tbody tr th:only-of-type {\n",
       "        vertical-align: middle;\n",
       "    }\n",
       "\n",
       "    .dataframe tbody tr th {\n",
       "        vertical-align: top;\n",
       "    }\n",
       "\n",
       "    .dataframe thead th {\n",
       "        text-align: right;\n",
       "    }\n",
       "</style>\n",
       "<table border=\"1\" class=\"dataframe\">\n",
       "  <thead>\n",
       "    <tr style=\"text-align: right;\">\n",
       "      <th></th>\n",
       "      <th>Unnamed: 0</th>\n",
       "      <th>Respondent</th>\n",
       "      <th>Age</th>\n",
       "      <th>CompTotal</th>\n",
       "      <th>ConvertedComp</th>\n",
       "      <th>WorkWeekHrs</th>\n",
       "      <th>NormalizedAnnualCompensation</th>\n",
       "    </tr>\n",
       "  </thead>\n",
       "  <tbody>\n",
       "    <tr>\n",
       "      <th>Unnamed: 0</th>\n",
       "      <td>1.000000</td>\n",
       "      <td>0.999946</td>\n",
       "      <td>-0.005234</td>\n",
       "      <td>-0.015208</td>\n",
       "      <td>-0.046861</td>\n",
       "      <td>0.008900</td>\n",
       "      <td>-0.010014</td>\n",
       "    </tr>\n",
       "    <tr>\n",
       "      <th>Respondent</th>\n",
       "      <td>0.999946</td>\n",
       "      <td>1.000000</td>\n",
       "      <td>-0.004477</td>\n",
       "      <td>-0.015409</td>\n",
       "      <td>-0.045668</td>\n",
       "      <td>0.008952</td>\n",
       "      <td>-0.010486</td>\n",
       "    </tr>\n",
       "    <tr>\n",
       "      <th>Age</th>\n",
       "      <td>-0.005234</td>\n",
       "      <td>-0.004477</td>\n",
       "      <td>1.000000</td>\n",
       "      <td>0.004256</td>\n",
       "      <td>0.408841</td>\n",
       "      <td>0.031855</td>\n",
       "      <td>-0.023207</td>\n",
       "    </tr>\n",
       "    <tr>\n",
       "      <th>CompTotal</th>\n",
       "      <td>-0.015208</td>\n",
       "      <td>-0.015409</td>\n",
       "      <td>0.004256</td>\n",
       "      <td>1.000000</td>\n",
       "      <td>-0.027768</td>\n",
       "      <td>0.022866</td>\n",
       "      <td>0.545670</td>\n",
       "    </tr>\n",
       "    <tr>\n",
       "      <th>ConvertedComp</th>\n",
       "      <td>-0.046861</td>\n",
       "      <td>-0.045668</td>\n",
       "      <td>0.408841</td>\n",
       "      <td>-0.027768</td>\n",
       "      <td>1.000000</td>\n",
       "      <td>0.075061</td>\n",
       "      <td>-0.076920</td>\n",
       "    </tr>\n",
       "    <tr>\n",
       "      <th>WorkWeekHrs</th>\n",
       "      <td>0.008900</td>\n",
       "      <td>0.008952</td>\n",
       "      <td>0.031855</td>\n",
       "      <td>0.022866</td>\n",
       "      <td>0.075061</td>\n",
       "      <td>1.000000</td>\n",
       "      <td>0.021888</td>\n",
       "    </tr>\n",
       "    <tr>\n",
       "      <th>NormalizedAnnualCompensation</th>\n",
       "      <td>-0.010014</td>\n",
       "      <td>-0.010486</td>\n",
       "      <td>-0.023207</td>\n",
       "      <td>0.545670</td>\n",
       "      <td>-0.076920</td>\n",
       "      <td>0.021888</td>\n",
       "      <td>1.000000</td>\n",
       "    </tr>\n",
       "  </tbody>\n",
       "</table>\n",
       "</div>"
      ],
      "text/plain": [
       "                              Unnamed: 0  Respondent       Age  CompTotal  \\\n",
       "Unnamed: 0                      1.000000    0.999946 -0.005234  -0.015208   \n",
       "Respondent                      0.999946    1.000000 -0.004477  -0.015409   \n",
       "Age                            -0.005234   -0.004477  1.000000   0.004256   \n",
       "CompTotal                      -0.015208   -0.015409  0.004256   1.000000   \n",
       "ConvertedComp                  -0.046861   -0.045668  0.408841  -0.027768   \n",
       "WorkWeekHrs                     0.008900    0.008952  0.031855   0.022866   \n",
       "NormalizedAnnualCompensation   -0.010014   -0.010486 -0.023207   0.545670   \n",
       "\n",
       "                              ConvertedComp  WorkWeekHrs  \\\n",
       "Unnamed: 0                        -0.046861     0.008900   \n",
       "Respondent                        -0.045668     0.008952   \n",
       "Age                                0.408841     0.031855   \n",
       "CompTotal                         -0.027768     0.022866   \n",
       "ConvertedComp                      1.000000     0.075061   \n",
       "WorkWeekHrs                        0.075061     1.000000   \n",
       "NormalizedAnnualCompensation      -0.076920     0.021888   \n",
       "\n",
       "                              NormalizedAnnualCompensation  \n",
       "Unnamed: 0                                       -0.010014  \n",
       "Respondent                                       -0.010486  \n",
       "Age                                              -0.023207  \n",
       "CompTotal                                         0.545670  \n",
       "ConvertedComp                                    -0.076920  \n",
       "WorkWeekHrs                                       0.021888  \n",
       "NormalizedAnnualCompensation                      1.000000  "
      ]
     },
     "execution_count": 42,
     "metadata": {},
     "output_type": "execute_result"
    }
   ],
   "source": [
    "# your code goes here\n",
    "df_new.corr()"
   ]
  },
  {
   "cell_type": "markdown",
   "metadata": {},
   "source": [
    "## Authors\n"
   ]
  },
  {
   "cell_type": "markdown",
   "metadata": {},
   "source": [
    "Ramesh Sannareddy\n"
   ]
  },
  {
   "cell_type": "markdown",
   "metadata": {},
   "source": [
    "### Other Contributors\n"
   ]
  },
  {
   "cell_type": "markdown",
   "metadata": {},
   "source": [
    "Rav Ahuja\n"
   ]
  },
  {
   "cell_type": "markdown",
   "metadata": {},
   "source": [
    "## Change Log\n"
   ]
  },
  {
   "cell_type": "markdown",
   "metadata": {},
   "source": [
    "| Date (YYYY-MM-DD) | Version | Changed By        | Change Description                 |\n",
    "| ----------------- | ------- | ----------------- | ---------------------------------- |\n",
    "| 2020-10-17        | 0.1     | Ramesh Sannareddy | Created initial version of the lab |\n"
   ]
  },
  {
   "cell_type": "markdown",
   "metadata": {},
   "source": [
    "Copyright © 2020 IBM Corporation. This notebook and its source code are released under the terms of the [MIT License](https://cognitiveclass.ai/mit-license?utm_medium=Exinfluencer&utm_source=Exinfluencer&utm_content=000026UJ&utm_term=10006555&utm_id=NA-SkillsNetwork-Channel-SkillsNetworkCoursesIBMDA0321ENSkillsNetwork21426264-2021-01-01&cm_mmc=Email_Newsletter-\\_-Developer_Ed%2BTech-\\_-WW_WW-\\_-SkillsNetwork-Courses-IBM-DA0321EN-SkillsNetwork-21426264&cm_mmca1=000026UJ&cm_mmca2=10006555&cm_mmca3=M12345678&cvosrc=email.Newsletter.M12345678&cvo_campaign=000026UJ).\n"
   ]
  }
 ],
 "metadata": {
  "kernelspec": {
   "display_name": "Python 3",
   "language": "python",
   "name": "python3"
  },
  "language_info": {
   "codemirror_mode": {
    "name": "ipython",
    "version": 3
   },
   "file_extension": ".py",
   "mimetype": "text/x-python",
   "name": "python",
   "nbconvert_exporter": "python",
   "pygments_lexer": "ipython3",
   "version": "3.8.8"
  }
 },
 "nbformat": 4,
 "nbformat_minor": 4
}
